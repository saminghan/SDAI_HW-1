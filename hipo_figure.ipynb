{
 "cells": [
  {
   "cell_type": "markdown",
   "metadata": {},
   "source": [
    "# PLOT a HIPPO by Samingun Handoyo(0880816)\n",
    "#submitted as Homework 1 of Smart Data Analytic I"
   ]
  },
  {
   "cell_type": "code",
   "execution_count": 6,
   "metadata": {},
   "outputs": [
    {
     "data": {
      "text/plain": [
       "(-75.0, 110.0, -70.0, 110.0)"
      ]
     },
     "execution_count": 6,
     "metadata": {},
     "output_type": "execute_result"
    },
    {
     "data": {
      "image/png": "[encoded data removed]",
      "text/plain": [
       "<Figure size 432x288 with 1 Axes>"
      ]
     },
     "metadata": {
      "needs_background": "light"
     },
     "output_type": "display_data"
    }
   ],
   "source": [
    "# %matplotlib tk\n",
    "%matplotlib inline\n",
    "# %matplotlib nbagg\n",
    "import matplotlib\n",
    "# plt.rcParams[\"animation.html\"] = \"html5\"\n",
    "\n",
    "from matplotlib import animation\n",
    "from numpy import append, cos, linspace, pi, sin, zeros\n",
    "import matplotlib.pyplot as plt\n",
    "# Hipo parameters\n",
    "parameters = [50 - 15j, 5 + 2j, -10 - 10j, -14 - 60j, -15 + 30j] \n",
    "\n",
    "\n",
    "def fourier(t, C):\n",
    "    f = zeros(t.shape)  #len(f) = len(t)\n",
    "    for k in range(len(C)):\n",
    "        f += C.real[k] * cos(k * t) + C.imag[k] * sin(k * t)\n",
    "    return f\n",
    "\n",
    "def hipo(t, p):\n",
    "    npar = 6\n",
    "\n",
    "    Cx = zeros((npar,), dtype='complex') #shape = (npar, )\n",
    "    Cy = zeros((npar,), dtype='complex')\n",
    "\n",
    "    Cx[1] = p[0].real * 1j\n",
    "    Cy[1] = p[3].imag + p[0].imag * 1j\n",
    "\n",
    "    Cx[2] = p[1].real * 1j\n",
    "    Cy[2] = p[1].imag * 1j\n",
    "\n",
    "    Cx[3] = p[2].real\n",
    "    Cy[3] = p[2].imag * 1j\n",
    "\n",
    "    Cx[5] = p[3].real\n",
    "\n",
    "    #x: concatenate fourier(t, Cy) series (with len(t)) and a number [p[4].imag], so len(x)=t+1; same as to y\n",
    "    x = append(fourier(t, Cy), [p[4].imag])   \n",
    "    y = -append(fourier(t, Cx), [-p[4].imag])\n",
    "\n",
    "    return x, y\n",
    "\n",
    "fig, ax = plt.subplots()\n",
    "# initial the elephant \"body\"\n",
    "#x, y = hipo(t=linspace(04 + 1.3 * pi, 2* pi + 0.9 * pi, 1000), p=parameters)\n",
    "x, y = hipo(t=linspace(0.6 + 1.3 * pi, 4 * pi + 0.9 * pi, 1000),p=parameters )\n",
    "plt.plot(x, y, 'b.')\n",
    "plt.xlim([-75, 110])\n",
    "plt.ylim([-70, 110])\n",
    "plt.axis('off')\n"
   ]
  },
  {
   "cell_type": "markdown",
   "metadata": {},
   "source": [
    "# The following codes are a step by step  for the reconstructing of HIPPO curve\n",
    "#For k = 1 (fourier coefficients are Cx[1] and Cy[1]"
   ]
  },
  {
   "cell_type": "code",
   "execution_count": 7,
   "metadata": {},
   "outputs": [
    {
     "data": {
      "text/plain": [
       "(-75.0, 110.0, -70.0, 110.0)"
      ]
     },
     "execution_count": 7,
     "metadata": {},
     "output_type": "execute_result"
    },
    {
     "data": {
      "image/png": "[encoded data removed]",
      "text/plain": [
       "<Figure size 432x288 with 1 Axes>"
      ]
     },
     "metadata": {
      "needs_background": "light"
     },
     "output_type": "display_data"
    }
   ],
   "source": [
    "# %matplotlib tk\n",
    "%matplotlib inline\n",
    "# %matplotlib nbagg\n",
    "import matplotlib\n",
    "# plt.rcParams[\"animation.html\"] = \"html5\"\n",
    "\n",
    "from matplotlib import animation\n",
    "from numpy import append, cos, linspace, pi, sin, zeros\n",
    "import matplotlib.pyplot as plt\n",
    "# Hipo parameters\n",
    "parameters = [50 - 15j, 5 + 2j, -10 - 10j, -14 - 60j, -15 + 30j] \n",
    "\n",
    "\n",
    "def fourier(t, C):\n",
    "    f = zeros(t.shape)  #len(f) = len(t)\n",
    "    for k in range(len(C)):\n",
    "        f += C.real[k] * cos(k * t) + C.imag[k] * sin(k * t)\n",
    "    return f\n",
    "\n",
    "def hipo(t, p):\n",
    "    npar = 6\n",
    "\n",
    "    Cx = zeros((npar,), dtype='complex') #shape = (npar, )\n",
    "    Cy = zeros((npar,), dtype='complex')\n",
    "\n",
    "    Cx[1] = p[0].real * 1j\n",
    "    Cy[1] = p[3].imag + p[0].imag * 1j\n",
    "\n",
    "   \n",
    "    #x: concatenate fourier(t, Cy) series (with len(t)) and a number [p[4].imag], so len(x)=t+1; same as to y\n",
    "    x = append(fourier(t, Cy), [p[4].imag])   \n",
    "    y = -append(fourier(t, Cx), [-p[4].imag])\n",
    "\n",
    "    return x, y\n",
    "\n",
    "fig, ax = plt.subplots()\n",
    "# initial the elephant \"body\"\n",
    "#x, y = hipo(t=linspace(04 + 1.3 * pi, 2* pi + 0.9 * pi, 1000), p=parameters)\n",
    "x, y = hipo(t=linspace(0.6 + 1.3 * pi, 4 * pi + 0.9 * pi, 1000),p=parameters )\n",
    "plt.plot(x, y, 'b.')\n",
    "plt.xlim([-75, 110])\n",
    "plt.ylim([-70, 110])\n",
    "plt.axis('off')"
   ]
  },
  {
   "cell_type": "markdown",
   "metadata": {},
   "source": [
    "# the code of k = 1,2 (Cx[1],Cx[2],Cy[1], and Cy[2]"
   ]
  },
  {
   "cell_type": "code",
   "execution_count": 8,
   "metadata": {},
   "outputs": [
    {
     "data": {
      "text/plain": [
       "(-75.0, 110.0, -70.0, 110.0)"
      ]
     },
     "execution_count": 8,
     "metadata": {},
     "output_type": "execute_result"
    },
    {
     "data": {
      "image/png": "[encoded data removed]",
      "text/plain": [
       "<Figure size 432x288 with 1 Axes>"
      ]
     },
     "metadata": {
      "needs_background": "light"
     },
     "output_type": "display_data"
    }
   ],
   "source": [
    "# %matplotlib tk\n",
    "%matplotlib inline\n",
    "# %matplotlib nbagg\n",
    "import matplotlib\n",
    "# plt.rcParams[\"animation.html\"] = \"html5\"\n",
    "\n",
    "from matplotlib import animation\n",
    "from numpy import append, cos, linspace, pi, sin, zeros\n",
    "import matplotlib.pyplot as plt\n",
    "# Hipo parameters\n",
    "parameters = [50 - 15j, 5 + 2j, -10 - 10j, -14 - 60j, -15 + 30j] \n",
    "\n",
    "\n",
    "def fourier(t, C):\n",
    "    f = zeros(t.shape)  #len(f) = len(t)\n",
    "    for k in range(len(C)):\n",
    "        f += C.real[k] * cos(k * t) + C.imag[k] * sin(k * t)\n",
    "    return f\n",
    "\n",
    "def hipo(t, p):\n",
    "    npar = 6\n",
    "\n",
    "    Cx = zeros((npar,), dtype='complex') #shape = (npar, )\n",
    "    Cy = zeros((npar,), dtype='complex')\n",
    "\n",
    "    Cx[1] = p[0].real * 1j\n",
    "    Cy[1] = p[3].imag + p[0].imag * 1j\n",
    "\n",
    "    Cx[2] = p[1].real * 1j\n",
    "    Cy[2] = p[1].imag * 1j\n",
    "\n",
    "    #x: concatenate fourier(t, Cy) series (with len(t)) and a number [p[4].imag], so len(x)=t+1; same as to y\n",
    "    x = append(fourier(t, Cy), [p[4].imag])   \n",
    "    y = -append(fourier(t, Cx), [-p[4].imag])\n",
    "\n",
    "    return x, y\n",
    "\n",
    "fig, ax = plt.subplots()\n",
    "# initial the elephant \"body\"\n",
    "#x, y = hipo(t=linspace(04 + 1.3 * pi, 2* pi + 0.9 * pi, 1000), p=parameters)\n",
    "x, y = hipo(t=linspace(0.6 + 1.3 * pi, 4 * pi + 0.9 * pi, 1000),p=parameters )\n",
    "plt.plot(x, y, 'b.')\n",
    "plt.xlim([-75, 110])\n",
    "plt.ylim([-70, 110])\n",
    "plt.axis('off')"
   ]
  },
  {
   "cell_type": "markdown",
   "metadata": {},
   "source": [
    "# the code of k = 1,2,3"
   ]
  },
  {
   "cell_type": "code",
   "execution_count": 9,
   "metadata": {},
   "outputs": [
    {
     "data": {
      "text/plain": [
       "(-75.0, 110.0, -70.0, 110.0)"
      ]
     },
     "execution_count": 9,
     "metadata": {},
     "output_type": "execute_result"
    },
    {
     "data": {
      "image/png": "[encoded data removed]",
      "text/plain": [
       "<Figure size 432x288 with 1 Axes>"
      ]
     },
     "metadata": {
      "needs_background": "light"
     },
     "output_type": "display_data"
    }
   ],
   "source": [
    "# %matplotlib tk\n",
    "%matplotlib inline\n",
    "# %matplotlib nbagg\n",
    "import matplotlib\n",
    "# plt.rcParams[\"animation.html\"] = \"html5\"\n",
    "\n",
    "from matplotlib import animation\n",
    "from numpy import append, cos, linspace, pi, sin, zeros\n",
    "import matplotlib.pyplot as plt\n",
    "# Hipo parameters\n",
    "parameters = [50 - 15j, 5 + 2j, -10 - 10j, -14 - 60j, -15 + 30j] \n",
    "\n",
    "\n",
    "def fourier(t, C):\n",
    "    f = zeros(t.shape)  #len(f) = len(t)\n",
    "    for k in range(len(C)):\n",
    "        f += C.real[k] * cos(k * t) + C.imag[k] * sin(k * t)\n",
    "    return f\n",
    "\n",
    "def hipo(t, p):\n",
    "    npar = 6\n",
    "\n",
    "    Cx = zeros((npar,), dtype='complex') #shape = (npar, )\n",
    "    Cy = zeros((npar,), dtype='complex')\n",
    "\n",
    "    Cx[1] = p[0].real * 1j\n",
    "    Cy[1] = p[3].imag + p[0].imag * 1j\n",
    "\n",
    "    Cx[2] = p[1].real * 1j\n",
    "    Cy[2] = p[1].imag * 1j\n",
    "\n",
    "    Cx[3] = p[2].real\n",
    "    Cy[3] = p[2].imag * 1j\n",
    "\n",
    "    #x: concatenate fourier(t, Cy) series (with len(t)) and a number [p[4].imag], so len(x)=t+1; same as to y\n",
    "    x = append(fourier(t, Cy), [p[4].imag])   \n",
    "    y = -append(fourier(t, Cx), [-p[4].imag])\n",
    "\n",
    "    return x, y\n",
    "\n",
    "fig, ax = plt.subplots()\n",
    "# initial the elephant \"body\"\n",
    "#x, y = hipo(t=linspace(04 + 1.3 * pi, 2* pi + 0.9 * pi, 1000), p=parameters)\n",
    "x, y = hipo(t=linspace(0.6 + 1.3 * pi, 4 * pi + 0.9 * pi, 1000),p=parameters )\n",
    "plt.plot(x, y, 'b.')\n",
    "plt.xlim([-75, 110])\n",
    "plt.ylim([-70, 110])\n",
    "plt.axis('off')"
   ]
  },
  {
   "cell_type": "markdown",
   "metadata": {},
   "source": [
    "# the finally, it is code of  k = 1,2,3,4,5"
   ]
  },
  {
   "cell_type": "code",
   "execution_count": 10,
   "metadata": {},
   "outputs": [
    {
     "data": {
      "text/plain": [
       "(-75.0, 110.0, -70.0, 110.0)"
      ]
     },
     "execution_count": 10,
     "metadata": {},
     "output_type": "execute_result"
    },
    {
     "data": {
      "image/png": "[encoded data removed]",
      "text/plain": [
       "<Figure size 432x288 with 1 Axes>"
      ]
     },
     "metadata": {
      "needs_background": "light"
     },
     "output_type": "display_data"
    }
   ],
   "source": [
    "# %matplotlib tk\n",
    "%matplotlib inline\n",
    "# %matplotlib nbagg\n",
    "import matplotlib\n",
    "# plt.rcParams[\"animation.html\"] = \"html5\"\n",
    "\n",
    "from matplotlib import animation\n",
    "from numpy import append, cos, linspace, pi, sin, zeros\n",
    "import matplotlib.pyplot as plt\n",
    "# Hipo parameters\n",
    "parameters = [50 - 15j, 5 + 2j, -10 - 10j, -14 - 60j, -15 + 30j] \n",
    "\n",
    "\n",
    "def fourier(t, C):\n",
    "    f = zeros(t.shape)  #len(f) = len(t)\n",
    "    for k in range(len(C)):\n",
    "        f += C.real[k] * cos(k * t) + C.imag[k] * sin(k * t)\n",
    "    return f\n",
    "\n",
    "def hipo(t, p):\n",
    "    npar = 6\n",
    "\n",
    "    Cx = zeros((npar,), dtype='complex') #shape = (npar, )\n",
    "    Cy = zeros((npar,), dtype='complex')\n",
    "\n",
    "    Cx[1] = p[0].real * 1j\n",
    "    Cy[1] = p[3].imag + p[0].imag * 1j\n",
    "\n",
    "    Cx[2] = p[1].real * 1j\n",
    "    Cy[2] = p[1].imag * 1j\n",
    "\n",
    "    Cx[3] = p[2].real\n",
    "    Cy[3] = p[2].imag * 1j\n",
    "\n",
    "    Cx[5] = p[3].real\n",
    "\n",
    "    #x: concatenate fourier(t, Cy) series (with len(t)) and a number [p[4].imag], so len(x)=t+1; same as to y\n",
    "    x = append(fourier(t, Cy), [p[4].imag])   \n",
    "    y = -append(fourier(t, Cx), [-p[4].imag])\n",
    "\n",
    "    return x, y\n",
    "\n",
    "fig, ax = plt.subplots()\n",
    "# initial the elephant \"body\"\n",
    "#x, y = hipo(t=linspace(04 + 1.3 * pi, 2* pi + 0.9 * pi, 1000), p=parameters)\n",
    "x, y = hipo(t=linspace(0.6 + 1.3 * pi, 4 * pi + 0.9 * pi, 1000),p=parameters )\n",
    "plt.plot(x, y, 'b.')\n",
    "plt.xlim([-75, 110])\n",
    "plt.ylim([-70, 110])\n",
    "plt.axis('off')"
   ]
  },
  {
   "cell_type": "markdown",
   "metadata": {},
   "source": [
    "# the code for the animating hippo on the backpart of it body\n",
    "the animation file is saved with the name of anim_hipo.gif"
   ]
  },
  {
   "cell_type": "code",
   "execution_count": 11,
   "metadata": {},
   "outputs": [
    {
     "name": "stderr",
     "output_type": "stream",
     "text": [
      "MovieWriter imagemagick unavailable; trying to use <class 'matplotlib.animation.PillowWriter'> instead.\n"
     ]
    },
    {
     "data": {
      "image/png": "[encoded data removed]",
      "text/plain": [
       "<Figure size 432x288 with 1 Axes>"
      ]
     },
     "metadata": {
      "needs_background": "light"
     },
     "output_type": "display_data"
    }
   ],
   "source": [
    "def init_plot():\n",
    "    # draw the body of the elephant (the body part without the trunk is already saved in predefined object \"trunk\")\n",
    "    # create trunk\n",
    "    x, y = hipo(linspace(4 * pi + 0.9 * pi, 0.6 + 3.3 * pi, 1000), parameters) #len(x)=len(y) = 1000+1\n",
    "    \n",
    "    for ii in range(len(y) - 1):\n",
    "        y[ii] -= sin(((x[ii] - x[0]) * pi / len(y))) * sin(float(0)) * parameters[4].real\n",
    "        # y series are still the same after updating, since sin(float(0))=0\n",
    "    \n",
    "    backpart.set_data(x, y)  #trunk: the initialized plot (predefined); trunk.set_data(x, y): updated plot by drawing (x, y)\n",
    "    return backpart,\n",
    "\n",
    "\n",
    "def move_backpart(i):\n",
    "    x, y = hipo(linspace(4 * pi + 0.9 * pi, 0.6 + 3.3 * pi, 1000), parameters)\n",
    "    # move trunk to new position (but don't move eye stored at end or array)\n",
    "    for ii in range(len(y) - 1):\n",
    "        y[ii] -= sin(((x[ii] - x[0]) * pi / len(y))) * sin(float(i)) * parameters[4].real\n",
    "    backpart.set_data(x, y)\n",
    "    return backpart,\n",
    "fig, ax = plt.subplots()\n",
    "# initial the elephant \"body\"\n",
    "x, y = hipo(t=linspace(0.6 + 1.3 * pi, 4 * pi + 0.9 * pi, 1000), p=parameters)\n",
    "plt.plot(x, y, 'b.')\n",
    "plt.xlim([-75, 110])\n",
    "plt.ylim([-70, 110])\n",
    "plt.axis('off')\n",
    "backpart, = ax.plot([], [], 'b.')  # initialize trunk\n",
    "\n",
    "ani = animation.FuncAnimation(fig=fig,\n",
    "                              func=move_backpart,\n",
    "                              frames=1000,  #frames: frame number = i\n",
    "                              init_func=init_plot,\n",
    "                              interval=100, #Delay between frames in milliseconds; total time = frames*(interval/1000)=100\n",
    "                              blit= True,\n",
    "                              repeat=True)\n",
    "ani.save('anim_hipo.gif',writer='imagemagick')"
   ]
  }
 ],
 "metadata": {
  "kernelspec": {
   "display_name": "Python 3",
   "language": "python",
   "name": "python3"
  },
  "language_info": {
   "codemirror_mode": {
    "name": "ipython",
    "version": 3
   },
   "file_extension": ".py",
   "mimetype": "text/x-python",
   "name": "python",
   "nbconvert_exporter": "python",
   "pygments_lexer": "ipython3",
   "version": "3.7.3"
  }
 },
 "nbformat": 4,
 "nbformat_minor": 4
}
